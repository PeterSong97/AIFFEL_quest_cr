{
 "cells": [
  {
   "cell_type": "code",
   "execution_count": null,
   "metadata": {
    "colab": {
     "base_uri": "https://localhost:8080/"
    },
    "collapsed": true,
    "id": "34iigTaTFReX",
    "outputId": "94a72eac-c6e5-4a72-9025-bbc54c4ad7c5"
   },
   "outputs": [
    {
     "name": "stdout",
     "output_type": "stream",
     "text": [
      "단어를 입력하세요.: 어도어\n",
      "이 단어는 회문입니다.\n"
     ]
    }
   ],
   "source": [
    "# print(\"단어를 입력하세요\")\n",
    "word = input(\"단어를 입력하세요.: \") # 사용자에게 검사할 단어를 입력 받는다.\n",
    "# print(\"입력된 단어는\", word)\n",
    "# reversed_word = word[::-1]\n",
    "# print(\"거꾸로 읽으면\", reversed_word)\n",
    "if word == word[::-1]: # 입력된 단어와 입력된 단어를 거꾸로 했을 때의 단어가 같은지 확인한다.\n",
    "  print(\"이 단어는 회문입니다.\") # 입력된 단어를 거꾸로 했을 때도 같은 단어일 경우 해당 문장을 출력한다.\n",
    "else:\n",
    "  print(\"이 단어는 회문이 아닙니다.\") # 입력된 단어를 거꾸로 했을 때 다른 단어일 경우 해당 문장을 출력한다."
   ]
  },
  {
   "cell_type": "code",
   "execution_count": null,
   "metadata": {
    "colab": {
     "base_uri": "https://localhost:8080/",
     "height": 35
    },
    "id": "g-qUF0smRB1l",
    "outputId": "26cf7c4a-c222-4908-9d78-f9ba2b2329c7"
   },
   "outputs": [
    {
     "data": {
      "application/vnd.google.colaboratory.intrinsic+json": {
       "type": "string"
      },
      "text/plain": [
       "'회문입니다.'"
      ]
     },
     "execution_count": 10,
     "metadata": {},
     "output_type": "execute_result"
    }
   ],
   "source": [
    "\"회문입니다.\" if word == word[::-1] else \"회문이 아닙니다.\""
   ]
  },
  {
   "cell_type": "markdown",
   "metadata": {
    "id": "_KKFlwrPcLf4"
   },
   "source": [
    "## 회고\n",
    "- 네이게이터 : 송명근\n",
    "\n",
    "다양한 방식의 해결방법을 고민해 나가는 과정이 좋았다.  \n",
    "또한 지난 시간에 배웠던 부분을 다시 한번 더 복습할 수 있는 계기가 되었다.\n",
    "\n",
    "- 드라이버 : 김태성\n",
    "\n",
    "지난 시간 배운 내용들을 상기시켜 코드를 작성하는게, 쉽지는 않았다.\n",
    "네이게이터 송명근님과 상의를 하며, 하나씩 풀어나가다보니 잘 완성된것 같다."
   ]
  }
 ],
 "metadata": {
  "colab": {
   "provenance": []
  },
  "kernelspec": {
   "display_name": "Python 3 (ipykernel)",
   "language": "python",
   "name": "python3"
  },
  "language_info": {
   "codemirror_mode": {
    "name": "ipython",
    "version": 3
   },
   "file_extension": ".py",
   "mimetype": "text/x-python",
   "name": "python",
   "nbconvert_exporter": "python",
   "pygments_lexer": "ipython3",
   "version": "3.9.7"
  }
 },
 "nbformat": 4,
 "nbformat_minor": 1
}
